{
  "nbformat": 4,
  "nbformat_minor": 0,
  "metadata": {
    "colab": {
      "provenance": [],
      "authorship_tag": "ABX9TyP026AQB+SurHmM/UgqU0GM",
      "include_colab_link": true
    },
    "kernelspec": {
      "name": "python3",
      "display_name": "Python 3"
    },
    "language_info": {
      "name": "python"
    }
  },
  "cells": [
    {
      "cell_type": "markdown",
      "metadata": {
        "id": "view-in-github",
        "colab_type": "text"
      },
      "source": [
        "<a href=\"https://colab.research.google.com/github/danavanwyk/Data-Analytics/blob/main/EDA_ON_GOT_Data_Set.ipynb\" target=\"_parent\"><img src=\"https://colab.research.google.com/assets/colab-badge.svg\" alt=\"Open In Colab\"/></a>"
      ]
    },
    {
      "cell_type": "markdown",
      "source": [
        "I have stumbled upon a cool Data Set on the Battles and death in the Game Of Thrones saga. \n",
        "\n",
        "To keep our skills sharpened i will be doing some Exploratory Data Analisys on the Data Set provided. \n",
        "\n",
        "AS always let's import our packages. "
      ],
      "metadata": {
        "id": "JsiSwm7h4UH2"
      }
    },
    {
      "cell_type": "code",
      "execution_count": 11,
      "metadata": {
        "id": "u1d8dT7L3evl"
      },
      "outputs": [],
      "source": [
        "import pandas as pd\n",
        "import numpy as np\n",
        "import seaborn as sns\n",
        "import matplotlib.pyplot as plt\n"
      ]
    },
    {
      "cell_type": "code",
      "source": [
        "battle = pd.read_csv('battles.csv')"
      ],
      "metadata": {
        "id": "X7Wk7aEO3znc"
      },
      "execution_count": null,
      "outputs": []
    },
    {
      "cell_type": "markdown",
      "source": [
        "Let's take a peak at the Data set battles.csv"
      ],
      "metadata": {
        "id": "qePS_Mtp4pAq"
      }
    },
    {
      "cell_type": "code",
      "source": [
        "battle.head()"
      ],
      "metadata": {
        "colab": {
          "base_uri": "https://localhost:8080/",
          "height": 484
        },
        "id": "8X2PT0Ah39ym",
        "outputId": "a43d1e22-a993-4488-89c9-2a3b9200df2f"
      },
      "execution_count": null,
      "outputs": [
        {
          "output_type": "execute_result",
          "data": {
            "text/plain": [
              "                            name  year  battle_number  \\\n",
              "0     Battle of the Golden Tooth   298              1   \n",
              "1    Battle at the Mummer's Ford   298              2   \n",
              "2             Battle of Riverrun   298              3   \n",
              "3       Battle of the Green Fork   298              4   \n",
              "4  Battle of the Whispering Wood   298              5   \n",
              "\n",
              "              attacker_king             defender_king attacker_1 attacker_2  \\\n",
              "0  Joffrey/Tommen Baratheon                Robb Stark  Lannister        NaN   \n",
              "1  Joffrey/Tommen Baratheon                Robb Stark  Lannister        NaN   \n",
              "2  Joffrey/Tommen Baratheon                Robb Stark  Lannister        NaN   \n",
              "3                Robb Stark  Joffrey/Tommen Baratheon      Stark        NaN   \n",
              "4                Robb Stark  Joffrey/Tommen Baratheon      Stark      Tully   \n",
              "\n",
              "  attacker_3 attacker_4 defender_1  ... major_death  major_capture  \\\n",
              "0        NaN        NaN      Tully  ...         1.0            0.0   \n",
              "1        NaN        NaN  Baratheon  ...         1.0            0.0   \n",
              "2        NaN        NaN      Tully  ...         0.0            1.0   \n",
              "3        NaN        NaN  Lannister  ...         1.0            1.0   \n",
              "4        NaN        NaN  Lannister  ...         1.0            1.0   \n",
              "\n",
              "   attacker_size defender_size  \\\n",
              "0        15000.0        4000.0   \n",
              "1            NaN         120.0   \n",
              "2        15000.0       10000.0   \n",
              "3        18000.0       20000.0   \n",
              "4         1875.0        6000.0   \n",
              "\n",
              "                                  attacker_commander  \\\n",
              "0                                    Jaime Lannister   \n",
              "1                                     Gregor Clegane   \n",
              "2                       Jaime Lannister, Andros Brax   \n",
              "3  Roose Bolton, Wylis Manderly, Medger Cerwyn, H...   \n",
              "4                          Robb Stark, Brynden Tully   \n",
              "\n",
              "                                  defender_commander  summer         location  \\\n",
              "0                               Clement Piper, Vance     1.0     Golden Tooth   \n",
              "1                                   Beric Dondarrion     1.0    Mummer's Ford   \n",
              "2                      Edmure Tully, Tytos Blackwood     1.0         Riverrun   \n",
              "3  Tywin Lannister, Gregor Clegane, Kevan Lannist...     1.0       Green Fork   \n",
              "4                                    Jaime Lannister     1.0  Whispering Wood   \n",
              "\n",
              "            region note  \n",
              "0  The Westerlands  NaN  \n",
              "1   The Riverlands  NaN  \n",
              "2   The Riverlands  NaN  \n",
              "3   The Riverlands  NaN  \n",
              "4   The Riverlands  NaN  \n",
              "\n",
              "[5 rows x 25 columns]"
            ],
            "text/html": [
              "\n",
              "  <div id=\"df-97b9fbd3-8d8c-4d86-bf23-64e1f5e72804\">\n",
              "    <div class=\"colab-df-container\">\n",
              "      <div>\n",
              "<style scoped>\n",
              "    .dataframe tbody tr th:only-of-type {\n",
              "        vertical-align: middle;\n",
              "    }\n",
              "\n",
              "    .dataframe tbody tr th {\n",
              "        vertical-align: top;\n",
              "    }\n",
              "\n",
              "    .dataframe thead th {\n",
              "        text-align: right;\n",
              "    }\n",
              "</style>\n",
              "<table border=\"1\" class=\"dataframe\">\n",
              "  <thead>\n",
              "    <tr style=\"text-align: right;\">\n",
              "      <th></th>\n",
              "      <th>name</th>\n",
              "      <th>year</th>\n",
              "      <th>battle_number</th>\n",
              "      <th>attacker_king</th>\n",
              "      <th>defender_king</th>\n",
              "      <th>attacker_1</th>\n",
              "      <th>attacker_2</th>\n",
              "      <th>attacker_3</th>\n",
              "      <th>attacker_4</th>\n",
              "      <th>defender_1</th>\n",
              "      <th>...</th>\n",
              "      <th>major_death</th>\n",
              "      <th>major_capture</th>\n",
              "      <th>attacker_size</th>\n",
              "      <th>defender_size</th>\n",
              "      <th>attacker_commander</th>\n",
              "      <th>defender_commander</th>\n",
              "      <th>summer</th>\n",
              "      <th>location</th>\n",
              "      <th>region</th>\n",
              "      <th>note</th>\n",
              "    </tr>\n",
              "  </thead>\n",
              "  <tbody>\n",
              "    <tr>\n",
              "      <th>0</th>\n",
              "      <td>Battle of the Golden Tooth</td>\n",
              "      <td>298</td>\n",
              "      <td>1</td>\n",
              "      <td>Joffrey/Tommen Baratheon</td>\n",
              "      <td>Robb Stark</td>\n",
              "      <td>Lannister</td>\n",
              "      <td>NaN</td>\n",
              "      <td>NaN</td>\n",
              "      <td>NaN</td>\n",
              "      <td>Tully</td>\n",
              "      <td>...</td>\n",
              "      <td>1.0</td>\n",
              "      <td>0.0</td>\n",
              "      <td>15000.0</td>\n",
              "      <td>4000.0</td>\n",
              "      <td>Jaime Lannister</td>\n",
              "      <td>Clement Piper, Vance</td>\n",
              "      <td>1.0</td>\n",
              "      <td>Golden Tooth</td>\n",
              "      <td>The Westerlands</td>\n",
              "      <td>NaN</td>\n",
              "    </tr>\n",
              "    <tr>\n",
              "      <th>1</th>\n",
              "      <td>Battle at the Mummer's Ford</td>\n",
              "      <td>298</td>\n",
              "      <td>2</td>\n",
              "      <td>Joffrey/Tommen Baratheon</td>\n",
              "      <td>Robb Stark</td>\n",
              "      <td>Lannister</td>\n",
              "      <td>NaN</td>\n",
              "      <td>NaN</td>\n",
              "      <td>NaN</td>\n",
              "      <td>Baratheon</td>\n",
              "      <td>...</td>\n",
              "      <td>1.0</td>\n",
              "      <td>0.0</td>\n",
              "      <td>NaN</td>\n",
              "      <td>120.0</td>\n",
              "      <td>Gregor Clegane</td>\n",
              "      <td>Beric Dondarrion</td>\n",
              "      <td>1.0</td>\n",
              "      <td>Mummer's Ford</td>\n",
              "      <td>The Riverlands</td>\n",
              "      <td>NaN</td>\n",
              "    </tr>\n",
              "    <tr>\n",
              "      <th>2</th>\n",
              "      <td>Battle of Riverrun</td>\n",
              "      <td>298</td>\n",
              "      <td>3</td>\n",
              "      <td>Joffrey/Tommen Baratheon</td>\n",
              "      <td>Robb Stark</td>\n",
              "      <td>Lannister</td>\n",
              "      <td>NaN</td>\n",
              "      <td>NaN</td>\n",
              "      <td>NaN</td>\n",
              "      <td>Tully</td>\n",
              "      <td>...</td>\n",
              "      <td>0.0</td>\n",
              "      <td>1.0</td>\n",
              "      <td>15000.0</td>\n",
              "      <td>10000.0</td>\n",
              "      <td>Jaime Lannister, Andros Brax</td>\n",
              "      <td>Edmure Tully, Tytos Blackwood</td>\n",
              "      <td>1.0</td>\n",
              "      <td>Riverrun</td>\n",
              "      <td>The Riverlands</td>\n",
              "      <td>NaN</td>\n",
              "    </tr>\n",
              "    <tr>\n",
              "      <th>3</th>\n",
              "      <td>Battle of the Green Fork</td>\n",
              "      <td>298</td>\n",
              "      <td>4</td>\n",
              "      <td>Robb Stark</td>\n",
              "      <td>Joffrey/Tommen Baratheon</td>\n",
              "      <td>Stark</td>\n",
              "      <td>NaN</td>\n",
              "      <td>NaN</td>\n",
              "      <td>NaN</td>\n",
              "      <td>Lannister</td>\n",
              "      <td>...</td>\n",
              "      <td>1.0</td>\n",
              "      <td>1.0</td>\n",
              "      <td>18000.0</td>\n",
              "      <td>20000.0</td>\n",
              "      <td>Roose Bolton, Wylis Manderly, Medger Cerwyn, H...</td>\n",
              "      <td>Tywin Lannister, Gregor Clegane, Kevan Lannist...</td>\n",
              "      <td>1.0</td>\n",
              "      <td>Green Fork</td>\n",
              "      <td>The Riverlands</td>\n",
              "      <td>NaN</td>\n",
              "    </tr>\n",
              "    <tr>\n",
              "      <th>4</th>\n",
              "      <td>Battle of the Whispering Wood</td>\n",
              "      <td>298</td>\n",
              "      <td>5</td>\n",
              "      <td>Robb Stark</td>\n",
              "      <td>Joffrey/Tommen Baratheon</td>\n",
              "      <td>Stark</td>\n",
              "      <td>Tully</td>\n",
              "      <td>NaN</td>\n",
              "      <td>NaN</td>\n",
              "      <td>Lannister</td>\n",
              "      <td>...</td>\n",
              "      <td>1.0</td>\n",
              "      <td>1.0</td>\n",
              "      <td>1875.0</td>\n",
              "      <td>6000.0</td>\n",
              "      <td>Robb Stark, Brynden Tully</td>\n",
              "      <td>Jaime Lannister</td>\n",
              "      <td>1.0</td>\n",
              "      <td>Whispering Wood</td>\n",
              "      <td>The Riverlands</td>\n",
              "      <td>NaN</td>\n",
              "    </tr>\n",
              "  </tbody>\n",
              "</table>\n",
              "<p>5 rows × 25 columns</p>\n",
              "</div>\n",
              "      <button class=\"colab-df-convert\" onclick=\"convertToInteractive('df-97b9fbd3-8d8c-4d86-bf23-64e1f5e72804')\"\n",
              "              title=\"Convert this dataframe to an interactive table.\"\n",
              "              style=\"display:none;\">\n",
              "        \n",
              "  <svg xmlns=\"http://www.w3.org/2000/svg\" height=\"24px\"viewBox=\"0 0 24 24\"\n",
              "       width=\"24px\">\n",
              "    <path d=\"M0 0h24v24H0V0z\" fill=\"none\"/>\n",
              "    <path d=\"M18.56 5.44l.94 2.06.94-2.06 2.06-.94-2.06-.94-.94-2.06-.94 2.06-2.06.94zm-11 1L8.5 8.5l.94-2.06 2.06-.94-2.06-.94L8.5 2.5l-.94 2.06-2.06.94zm10 10l.94 2.06.94-2.06 2.06-.94-2.06-.94-.94-2.06-.94 2.06-2.06.94z\"/><path d=\"M17.41 7.96l-1.37-1.37c-.4-.4-.92-.59-1.43-.59-.52 0-1.04.2-1.43.59L10.3 9.45l-7.72 7.72c-.78.78-.78 2.05 0 2.83L4 21.41c.39.39.9.59 1.41.59.51 0 1.02-.2 1.41-.59l7.78-7.78 2.81-2.81c.8-.78.8-2.07 0-2.86zM5.41 20L4 18.59l7.72-7.72 1.47 1.35L5.41 20z\"/>\n",
              "  </svg>\n",
              "      </button>\n",
              "      \n",
              "  <style>\n",
              "    .colab-df-container {\n",
              "      display:flex;\n",
              "      flex-wrap:wrap;\n",
              "      gap: 12px;\n",
              "    }\n",
              "\n",
              "    .colab-df-convert {\n",
              "      background-color: #E8F0FE;\n",
              "      border: none;\n",
              "      border-radius: 50%;\n",
              "      cursor: pointer;\n",
              "      display: none;\n",
              "      fill: #1967D2;\n",
              "      height: 32px;\n",
              "      padding: 0 0 0 0;\n",
              "      width: 32px;\n",
              "    }\n",
              "\n",
              "    .colab-df-convert:hover {\n",
              "      background-color: #E2EBFA;\n",
              "      box-shadow: 0px 1px 2px rgba(60, 64, 67, 0.3), 0px 1px 3px 1px rgba(60, 64, 67, 0.15);\n",
              "      fill: #174EA6;\n",
              "    }\n",
              "\n",
              "    [theme=dark] .colab-df-convert {\n",
              "      background-color: #3B4455;\n",
              "      fill: #D2E3FC;\n",
              "    }\n",
              "\n",
              "    [theme=dark] .colab-df-convert:hover {\n",
              "      background-color: #434B5C;\n",
              "      box-shadow: 0px 1px 3px 1px rgba(0, 0, 0, 0.15);\n",
              "      filter: drop-shadow(0px 1px 2px rgba(0, 0, 0, 0.3));\n",
              "      fill: #FFFFFF;\n",
              "    }\n",
              "  </style>\n",
              "\n",
              "      <script>\n",
              "        const buttonEl =\n",
              "          document.querySelector('#df-97b9fbd3-8d8c-4d86-bf23-64e1f5e72804 button.colab-df-convert');\n",
              "        buttonEl.style.display =\n",
              "          google.colab.kernel.accessAllowed ? 'block' : 'none';\n",
              "\n",
              "        async function convertToInteractive(key) {\n",
              "          const element = document.querySelector('#df-97b9fbd3-8d8c-4d86-bf23-64e1f5e72804');\n",
              "          const dataTable =\n",
              "            await google.colab.kernel.invokeFunction('convertToInteractive',\n",
              "                                                     [key], {});\n",
              "          if (!dataTable) return;\n",
              "\n",
              "          const docLinkHtml = 'Like what you see? Visit the ' +\n",
              "            '<a target=\"_blank\" href=https://colab.research.google.com/notebooks/data_table.ipynb>data table notebook</a>'\n",
              "            + ' to learn more about interactive tables.';\n",
              "          element.innerHTML = '';\n",
              "          dataTable['output_type'] = 'display_data';\n",
              "          await google.colab.output.renderOutput(dataTable, element);\n",
              "          const docLink = document.createElement('div');\n",
              "          docLink.innerHTML = docLinkHtml;\n",
              "          element.appendChild(docLink);\n",
              "        }\n",
              "      </script>\n",
              "    </div>\n",
              "  </div>\n",
              "  "
            ]
          },
          "metadata": {},
          "execution_count": 4
        }
      ]
    },
    {
      "cell_type": "code",
      "source": [
        "battle.shape"
      ],
      "metadata": {
        "colab": {
          "base_uri": "https://localhost:8080/"
        },
        "id": "ZB9JoWRb4B1S",
        "outputId": "990136f5-0d13-430b-f9b0-c77e8fcbc014"
      },
      "execution_count": null,
      "outputs": [
        {
          "output_type": "execute_result",
          "data": {
            "text/plain": [
              "(38, 25)"
            ]
          },
          "metadata": {},
          "execution_count": 5
        }
      ]
    },
    {
      "cell_type": "markdown",
      "source": [
        "We can see that the column names are not very descriptive. Or maybe i just don't like them. Lets's rename attacker_1 to primary attacker, and the same for defender_1\n"
      ],
      "metadata": {
        "id": "q_iJgSG_44TA"
      }
    },
    {
      "cell_type": "code",
      "source": [
        "battle.rename(columns={'attacker_1':'primary_attacker'}, inplace=True)\n",
        "battle.head()"
      ],
      "metadata": {
        "id": "FWruHU8R4EG4"
      },
      "execution_count": null,
      "outputs": []
    },
    {
      "cell_type": "code",
      "source": [
        "battle.rename(columns={'defender_1':'primary_defender'}, inplace=True)\n",
        "battle.head()"
      ],
      "metadata": {
        "colab": {
          "base_uri": "https://localhost:8080/",
          "height": 484
        },
        "id": "mO_S3XPj6lQx",
        "outputId": "52f52cbb-ef8a-4bc3-bff7-c89f30c657d8"
      },
      "execution_count": 8,
      "outputs": [
        {
          "output_type": "execute_result",
          "data": {
            "text/plain": [
              "                            name  year  battle_number  \\\n",
              "0     Battle of the Golden Tooth   298              1   \n",
              "1    Battle at the Mummer's Ford   298              2   \n",
              "2             Battle of Riverrun   298              3   \n",
              "3       Battle of the Green Fork   298              4   \n",
              "4  Battle of the Whispering Wood   298              5   \n",
              "\n",
              "              attacker_king             defender_king primary_attacker  \\\n",
              "0  Joffrey/Tommen Baratheon                Robb Stark        Lannister   \n",
              "1  Joffrey/Tommen Baratheon                Robb Stark        Lannister   \n",
              "2  Joffrey/Tommen Baratheon                Robb Stark        Lannister   \n",
              "3                Robb Stark  Joffrey/Tommen Baratheon            Stark   \n",
              "4                Robb Stark  Joffrey/Tommen Baratheon            Stark   \n",
              "\n",
              "  attacker_2 attacker_3 attacker_4 primary_defender  ... major_death  \\\n",
              "0        NaN        NaN        NaN            Tully  ...         1.0   \n",
              "1        NaN        NaN        NaN        Baratheon  ...         1.0   \n",
              "2        NaN        NaN        NaN            Tully  ...         0.0   \n",
              "3        NaN        NaN        NaN        Lannister  ...         1.0   \n",
              "4      Tully        NaN        NaN        Lannister  ...         1.0   \n",
              "\n",
              "   major_capture  attacker_size defender_size  \\\n",
              "0            0.0        15000.0        4000.0   \n",
              "1            0.0            NaN         120.0   \n",
              "2            1.0        15000.0       10000.0   \n",
              "3            1.0        18000.0       20000.0   \n",
              "4            1.0         1875.0        6000.0   \n",
              "\n",
              "                                  attacker_commander  \\\n",
              "0                                    Jaime Lannister   \n",
              "1                                     Gregor Clegane   \n",
              "2                       Jaime Lannister, Andros Brax   \n",
              "3  Roose Bolton, Wylis Manderly, Medger Cerwyn, H...   \n",
              "4                          Robb Stark, Brynden Tully   \n",
              "\n",
              "                                  defender_commander  summer         location  \\\n",
              "0                               Clement Piper, Vance     1.0     Golden Tooth   \n",
              "1                                   Beric Dondarrion     1.0    Mummer's Ford   \n",
              "2                      Edmure Tully, Tytos Blackwood     1.0         Riverrun   \n",
              "3  Tywin Lannister, Gregor Clegane, Kevan Lannist...     1.0       Green Fork   \n",
              "4                                    Jaime Lannister     1.0  Whispering Wood   \n",
              "\n",
              "            region note  \n",
              "0  The Westerlands  NaN  \n",
              "1   The Riverlands  NaN  \n",
              "2   The Riverlands  NaN  \n",
              "3   The Riverlands  NaN  \n",
              "4   The Riverlands  NaN  \n",
              "\n",
              "[5 rows x 25 columns]"
            ],
            "text/html": [
              "\n",
              "  <div id=\"df-9f1fdb95-be25-45bf-97ae-6aae8dfbf0af\">\n",
              "    <div class=\"colab-df-container\">\n",
              "      <div>\n",
              "<style scoped>\n",
              "    .dataframe tbody tr th:only-of-type {\n",
              "        vertical-align: middle;\n",
              "    }\n",
              "\n",
              "    .dataframe tbody tr th {\n",
              "        vertical-align: top;\n",
              "    }\n",
              "\n",
              "    .dataframe thead th {\n",
              "        text-align: right;\n",
              "    }\n",
              "</style>\n",
              "<table border=\"1\" class=\"dataframe\">\n",
              "  <thead>\n",
              "    <tr style=\"text-align: right;\">\n",
              "      <th></th>\n",
              "      <th>name</th>\n",
              "      <th>year</th>\n",
              "      <th>battle_number</th>\n",
              "      <th>attacker_king</th>\n",
              "      <th>defender_king</th>\n",
              "      <th>primary_attacker</th>\n",
              "      <th>attacker_2</th>\n",
              "      <th>attacker_3</th>\n",
              "      <th>attacker_4</th>\n",
              "      <th>primary_defender</th>\n",
              "      <th>...</th>\n",
              "      <th>major_death</th>\n",
              "      <th>major_capture</th>\n",
              "      <th>attacker_size</th>\n",
              "      <th>defender_size</th>\n",
              "      <th>attacker_commander</th>\n",
              "      <th>defender_commander</th>\n",
              "      <th>summer</th>\n",
              "      <th>location</th>\n",
              "      <th>region</th>\n",
              "      <th>note</th>\n",
              "    </tr>\n",
              "  </thead>\n",
              "  <tbody>\n",
              "    <tr>\n",
              "      <th>0</th>\n",
              "      <td>Battle of the Golden Tooth</td>\n",
              "      <td>298</td>\n",
              "      <td>1</td>\n",
              "      <td>Joffrey/Tommen Baratheon</td>\n",
              "      <td>Robb Stark</td>\n",
              "      <td>Lannister</td>\n",
              "      <td>NaN</td>\n",
              "      <td>NaN</td>\n",
              "      <td>NaN</td>\n",
              "      <td>Tully</td>\n",
              "      <td>...</td>\n",
              "      <td>1.0</td>\n",
              "      <td>0.0</td>\n",
              "      <td>15000.0</td>\n",
              "      <td>4000.0</td>\n",
              "      <td>Jaime Lannister</td>\n",
              "      <td>Clement Piper, Vance</td>\n",
              "      <td>1.0</td>\n",
              "      <td>Golden Tooth</td>\n",
              "      <td>The Westerlands</td>\n",
              "      <td>NaN</td>\n",
              "    </tr>\n",
              "    <tr>\n",
              "      <th>1</th>\n",
              "      <td>Battle at the Mummer's Ford</td>\n",
              "      <td>298</td>\n",
              "      <td>2</td>\n",
              "      <td>Joffrey/Tommen Baratheon</td>\n",
              "      <td>Robb Stark</td>\n",
              "      <td>Lannister</td>\n",
              "      <td>NaN</td>\n",
              "      <td>NaN</td>\n",
              "      <td>NaN</td>\n",
              "      <td>Baratheon</td>\n",
              "      <td>...</td>\n",
              "      <td>1.0</td>\n",
              "      <td>0.0</td>\n",
              "      <td>NaN</td>\n",
              "      <td>120.0</td>\n",
              "      <td>Gregor Clegane</td>\n",
              "      <td>Beric Dondarrion</td>\n",
              "      <td>1.0</td>\n",
              "      <td>Mummer's Ford</td>\n",
              "      <td>The Riverlands</td>\n",
              "      <td>NaN</td>\n",
              "    </tr>\n",
              "    <tr>\n",
              "      <th>2</th>\n",
              "      <td>Battle of Riverrun</td>\n",
              "      <td>298</td>\n",
              "      <td>3</td>\n",
              "      <td>Joffrey/Tommen Baratheon</td>\n",
              "      <td>Robb Stark</td>\n",
              "      <td>Lannister</td>\n",
              "      <td>NaN</td>\n",
              "      <td>NaN</td>\n",
              "      <td>NaN</td>\n",
              "      <td>Tully</td>\n",
              "      <td>...</td>\n",
              "      <td>0.0</td>\n",
              "      <td>1.0</td>\n",
              "      <td>15000.0</td>\n",
              "      <td>10000.0</td>\n",
              "      <td>Jaime Lannister, Andros Brax</td>\n",
              "      <td>Edmure Tully, Tytos Blackwood</td>\n",
              "      <td>1.0</td>\n",
              "      <td>Riverrun</td>\n",
              "      <td>The Riverlands</td>\n",
              "      <td>NaN</td>\n",
              "    </tr>\n",
              "    <tr>\n",
              "      <th>3</th>\n",
              "      <td>Battle of the Green Fork</td>\n",
              "      <td>298</td>\n",
              "      <td>4</td>\n",
              "      <td>Robb Stark</td>\n",
              "      <td>Joffrey/Tommen Baratheon</td>\n",
              "      <td>Stark</td>\n",
              "      <td>NaN</td>\n",
              "      <td>NaN</td>\n",
              "      <td>NaN</td>\n",
              "      <td>Lannister</td>\n",
              "      <td>...</td>\n",
              "      <td>1.0</td>\n",
              "      <td>1.0</td>\n",
              "      <td>18000.0</td>\n",
              "      <td>20000.0</td>\n",
              "      <td>Roose Bolton, Wylis Manderly, Medger Cerwyn, H...</td>\n",
              "      <td>Tywin Lannister, Gregor Clegane, Kevan Lannist...</td>\n",
              "      <td>1.0</td>\n",
              "      <td>Green Fork</td>\n",
              "      <td>The Riverlands</td>\n",
              "      <td>NaN</td>\n",
              "    </tr>\n",
              "    <tr>\n",
              "      <th>4</th>\n",
              "      <td>Battle of the Whispering Wood</td>\n",
              "      <td>298</td>\n",
              "      <td>5</td>\n",
              "      <td>Robb Stark</td>\n",
              "      <td>Joffrey/Tommen Baratheon</td>\n",
              "      <td>Stark</td>\n",
              "      <td>Tully</td>\n",
              "      <td>NaN</td>\n",
              "      <td>NaN</td>\n",
              "      <td>Lannister</td>\n",
              "      <td>...</td>\n",
              "      <td>1.0</td>\n",
              "      <td>1.0</td>\n",
              "      <td>1875.0</td>\n",
              "      <td>6000.0</td>\n",
              "      <td>Robb Stark, Brynden Tully</td>\n",
              "      <td>Jaime Lannister</td>\n",
              "      <td>1.0</td>\n",
              "      <td>Whispering Wood</td>\n",
              "      <td>The Riverlands</td>\n",
              "      <td>NaN</td>\n",
              "    </tr>\n",
              "  </tbody>\n",
              "</table>\n",
              "<p>5 rows × 25 columns</p>\n",
              "</div>\n",
              "      <button class=\"colab-df-convert\" onclick=\"convertToInteractive('df-9f1fdb95-be25-45bf-97ae-6aae8dfbf0af')\"\n",
              "              title=\"Convert this dataframe to an interactive table.\"\n",
              "              style=\"display:none;\">\n",
              "        \n",
              "  <svg xmlns=\"http://www.w3.org/2000/svg\" height=\"24px\"viewBox=\"0 0 24 24\"\n",
              "       width=\"24px\">\n",
              "    <path d=\"M0 0h24v24H0V0z\" fill=\"none\"/>\n",
              "    <path d=\"M18.56 5.44l.94 2.06.94-2.06 2.06-.94-2.06-.94-.94-2.06-.94 2.06-2.06.94zm-11 1L8.5 8.5l.94-2.06 2.06-.94-2.06-.94L8.5 2.5l-.94 2.06-2.06.94zm10 10l.94 2.06.94-2.06 2.06-.94-2.06-.94-.94-2.06-.94 2.06-2.06.94z\"/><path d=\"M17.41 7.96l-1.37-1.37c-.4-.4-.92-.59-1.43-.59-.52 0-1.04.2-1.43.59L10.3 9.45l-7.72 7.72c-.78.78-.78 2.05 0 2.83L4 21.41c.39.39.9.59 1.41.59.51 0 1.02-.2 1.41-.59l7.78-7.78 2.81-2.81c.8-.78.8-2.07 0-2.86zM5.41 20L4 18.59l7.72-7.72 1.47 1.35L5.41 20z\"/>\n",
              "  </svg>\n",
              "      </button>\n",
              "      \n",
              "  <style>\n",
              "    .colab-df-container {\n",
              "      display:flex;\n",
              "      flex-wrap:wrap;\n",
              "      gap: 12px;\n",
              "    }\n",
              "\n",
              "    .colab-df-convert {\n",
              "      background-color: #E8F0FE;\n",
              "      border: none;\n",
              "      border-radius: 50%;\n",
              "      cursor: pointer;\n",
              "      display: none;\n",
              "      fill: #1967D2;\n",
              "      height: 32px;\n",
              "      padding: 0 0 0 0;\n",
              "      width: 32px;\n",
              "    }\n",
              "\n",
              "    .colab-df-convert:hover {\n",
              "      background-color: #E2EBFA;\n",
              "      box-shadow: 0px 1px 2px rgba(60, 64, 67, 0.3), 0px 1px 3px 1px rgba(60, 64, 67, 0.15);\n",
              "      fill: #174EA6;\n",
              "    }\n",
              "\n",
              "    [theme=dark] .colab-df-convert {\n",
              "      background-color: #3B4455;\n",
              "      fill: #D2E3FC;\n",
              "    }\n",
              "\n",
              "    [theme=dark] .colab-df-convert:hover {\n",
              "      background-color: #434B5C;\n",
              "      box-shadow: 0px 1px 3px 1px rgba(0, 0, 0, 0.15);\n",
              "      filter: drop-shadow(0px 1px 2px rgba(0, 0, 0, 0.3));\n",
              "      fill: #FFFFFF;\n",
              "    }\n",
              "  </style>\n",
              "\n",
              "      <script>\n",
              "        const buttonEl =\n",
              "          document.querySelector('#df-9f1fdb95-be25-45bf-97ae-6aae8dfbf0af button.colab-df-convert');\n",
              "        buttonEl.style.display =\n",
              "          google.colab.kernel.accessAllowed ? 'block' : 'none';\n",
              "\n",
              "        async function convertToInteractive(key) {\n",
              "          const element = document.querySelector('#df-9f1fdb95-be25-45bf-97ae-6aae8dfbf0af');\n",
              "          const dataTable =\n",
              "            await google.colab.kernel.invokeFunction('convertToInteractive',\n",
              "                                                     [key], {});\n",
              "          if (!dataTable) return;\n",
              "\n",
              "          const docLinkHtml = 'Like what you see? Visit the ' +\n",
              "            '<a target=\"_blank\" href=https://colab.research.google.com/notebooks/data_table.ipynb>data table notebook</a>'\n",
              "            + ' to learn more about interactive tables.';\n",
              "          element.innerHTML = '';\n",
              "          dataTable['output_type'] = 'display_data';\n",
              "          await google.colab.output.renderOutput(dataTable, element);\n",
              "          const docLink = document.createElement('div');\n",
              "          docLink.innerHTML = docLinkHtml;\n",
              "          element.appendChild(docLink);\n",
              "        }\n",
              "      </script>\n",
              "    </div>\n",
              "  </div>\n",
              "  "
            ]
          },
          "metadata": {},
          "execution_count": 8
        }
      ]
    },
    {
      "cell_type": "markdown",
      "source": [
        "I want to take a look at the Kings who have been the most active. So if we count the nuber of attacks in hte attacker_king column we should get a good idea. \n",
        "\n",
        "We can use value_counts() to do this. From this we can see that Joffrey/Tommen Baratheon are the trouble makers and we can plot this now. "
      ],
      "metadata": {
        "id": "oMgcJ5of6uxh"
      }
    },
    {
      "cell_type": "code",
      "source": [
        "battle['attacker_king'].value_counts()"
      ],
      "metadata": {
        "colab": {
          "base_uri": "https://localhost:8080/"
        },
        "id": "I-h7bgVf65O7",
        "outputId": "3e0a6155-9bd2-4dc3-adb4-3bdab9fd96de"
      },
      "execution_count": 9,
      "outputs": [
        {
          "output_type": "execute_result",
          "data": {
            "text/plain": [
              "Joffrey/Tommen Baratheon    14\n",
              "Robb Stark                  10\n",
              "Balon/Euron Greyjoy          7\n",
              "Stannis Baratheon            5\n",
              "Name: attacker_king, dtype: int64"
            ]
          },
          "metadata": {},
          "execution_count": 9
        }
      ]
    },
    {
      "cell_type": "code",
      "source": [
        "battle['location'].value_counts()\n",
        "\n"
      ],
      "metadata": {
        "colab": {
          "base_uri": "https://localhost:8080/"
        },
        "id": "VD1ILvLjCLp9",
        "outputId": "81635550-1dfc-40fd-a0c0-c4fc3fefc94f"
      },
      "execution_count": 45,
      "outputs": [
        {
          "output_type": "execute_result",
          "data": {
            "text/plain": [
              "Riverrun                                3\n",
              "Winterfell                              3\n",
              "Storm's End                             2\n",
              "Harrenhal                               2\n",
              "Darry                                   2\n",
              "Moat Cailin                             2\n",
              "Deepwood Motte                          2\n",
              "Torrhen's Square                        2\n",
              "Golden Tooth                            1\n",
              "Seagard                                 1\n",
              "Castle Black                            1\n",
              "Shield Islands                          1\n",
              "Saltpans                                1\n",
              "Ruby Ford                               1\n",
              "Ryamsport, Vinetown, Starfish Harbor    1\n",
              "Dragonstone                             1\n",
              "The Twins                               1\n",
              "Red Fork                                1\n",
              "Duskendale                              1\n",
              "King's Landing                          1\n",
              "Crag                                    1\n",
              "Mummer's Ford                           1\n",
              "Oxcross                                 1\n",
              "Stony Shore                             1\n",
              "Whispering Wood                         1\n",
              "Green Fork                              1\n",
              "Raventree                               1\n",
              "Name: location, dtype: int64"
            ]
          },
          "metadata": {},
          "execution_count": 45
        }
      ]
    },
    {
      "cell_type": "code",
      "source": [
        "sns.set(rc={'figure.figsize':(13,5)})\n",
        "sns.barplot(x='attacker_king', y='attacker_size', data=battle)\n",
        "plt.show()"
      ],
      "metadata": {
        "colab": {
          "base_uri": "https://localhost:8080/",
          "height": 339
        },
        "id": "9wtq03FJ8O6w",
        "outputId": "08e8da55-ff80-453e-bea2-8c0f5d8e337f"
      },
      "execution_count": 18,
      "outputs": [
        {
          "output_type": "display_data",
          "data": {
            "text/plain": [
              "<Figure size 936x360 with 1 Axes>"
            ],
            "image/png": "[encoded data removed]"
          },
          "metadata": {}
        }
      ]
    },
    {
      "cell_type": "markdown",
      "source": [
        "From the viz above it is easy to conclude that Stannis Borathean Attack more often that anyone and that his army is also the biggest of all."
      ],
      "metadata": {
        "id": "NGfdzy8L-UqZ"
      }
    },
    {
      "cell_type": "code",
      "source": [
        "sns.set(rc={'figure.figsize':(15,8)})\n",
        "sns.barplot(x='defender_king', y='defender_size', data=battle)\n",
        "plt.show()"
      ],
      "metadata": {
        "colab": {
          "base_uri": "https://localhost:8080/",
          "height": 502
        },
        "id": "6tsjEjCG-0pu",
        "outputId": "de3dece8-ba25-4b94-f875-15191ccfa599"
      },
      "execution_count": 24,
      "outputs": [
        {
          "output_type": "display_data",
          "data": {
            "text/plain": [
              "<Figure size 1080x576 with 1 Axes>"
            ],
            "image/png": "[encoded data removed]"
          },
          "metadata": {}
        }
      ]
    },
    {
      "cell_type": "code",
      "source": [
        "ax = sns.countplot(x=battle['attacker_king'], hue=battle['battle_type'])\n",
        "sns.move_legend(ax, 'center right')\n",
        "plt.show()"
      ],
      "metadata": {
        "colab": {
          "base_uri": "https://localhost:8080/",
          "height": 502
        },
        "id": "TkKmlrDaAArS",
        "outputId": "51a76a76-cfae-4d5a-b5b7-72861b665ade"
      },
      "execution_count": 36,
      "outputs": [
        {
          "output_type": "display_data",
          "data": {
            "text/plain": [
              "<Figure size 1080x576 with 1 Axes>"
            ],
            "image/png": "[encoded data removed]"
          },
          "metadata": {}
        }
      ]
    },
    {
      "cell_type": "markdown",
      "source": [
        "As we know thers was a lot of people that died in the Game of Trones Saga. Lets take a visual look at this."
      ],
      "metadata": {
        "id": "_PTOh085CXcJ"
      }
    },
    {
      "cell_type": "code",
      "source": [
        "#We have a seperate Data Set containing only the deaths. \n",
        "deaths = pd.read_csv('character-deaths.csv')"
      ],
      "metadata": {
        "id": "zFJoWMdiCjXp"
      },
      "execution_count": 46,
      "outputs": []
    },
    {
      "cell_type": "code",
      "source": [
        "deaths.head()"
      ],
      "metadata": {
        "colab": {
          "base_uri": "https://localhost:8080/",
          "height": 316
        },
        "id": "Vl6zVnEFCzFg",
        "outputId": "31447d0b-4b43-48fd-9c30-9d32b5c2c453"
      },
      "execution_count": 48,
      "outputs": [
        {
          "output_type": "execute_result",
          "data": {
            "text/plain": [
              "                      Name      Allegiances  Death Year  Book of Death  \\\n",
              "0           Addam Marbrand        Lannister         NaN            NaN   \n",
              "1  Aegon Frey (Jinglebell)             None       299.0            3.0   \n",
              "2          Aegon Targaryen  House Targaryen         NaN            NaN   \n",
              "3            Adrack Humble    House Greyjoy       300.0            5.0   \n",
              "4           Aemon Costayne        Lannister         NaN            NaN   \n",
              "\n",
              "   Death Chapter  Book Intro Chapter  Gender  Nobility  GoT  CoK  SoS  FfC  \\\n",
              "0            NaN                56.0       1         1    1    1    1    1   \n",
              "1           51.0                49.0       1         1    0    0    1    0   \n",
              "2            NaN                 5.0       1         1    0    0    0    0   \n",
              "3           20.0                20.0       1         1    0    0    0    0   \n",
              "4            NaN                 NaN       1         1    0    0    1    0   \n",
              "\n",
              "   DwD  \n",
              "0    0  \n",
              "1    0  \n",
              "2    1  \n",
              "3    1  \n",
              "4    0  "
            ],
            "text/html": [
              "\n",
              "  <div id=\"df-65fc91b3-7593-4f03-b96b-7415761ed0c2\">\n",
              "    <div class=\"colab-df-container\">\n",
              "      <div>\n",
              "<style scoped>\n",
              "    .dataframe tbody tr th:only-of-type {\n",
              "        vertical-align: middle;\n",
              "    }\n",
              "\n",
              "    .dataframe tbody tr th {\n",
              "        vertical-align: top;\n",
              "    }\n",
              "\n",
              "    .dataframe thead th {\n",
              "        text-align: right;\n",
              "    }\n",
              "</style>\n",
              "<table border=\"1\" class=\"dataframe\">\n",
              "  <thead>\n",
              "    <tr style=\"text-align: right;\">\n",
              "      <th></th>\n",
              "      <th>Name</th>\n",
              "      <th>Allegiances</th>\n",
              "      <th>Death Year</th>\n",
              "      <th>Book of Death</th>\n",
              "      <th>Death Chapter</th>\n",
              "      <th>Book Intro Chapter</th>\n",
              "      <th>Gender</th>\n",
              "      <th>Nobility</th>\n",
              "      <th>GoT</th>\n",
              "      <th>CoK</th>\n",
              "      <th>SoS</th>\n",
              "      <th>FfC</th>\n",
              "      <th>DwD</th>\n",
              "    </tr>\n",
              "  </thead>\n",
              "  <tbody>\n",
              "    <tr>\n",
              "      <th>0</th>\n",
              "      <td>Addam Marbrand</td>\n",
              "      <td>Lannister</td>\n",
              "      <td>NaN</td>\n",
              "      <td>NaN</td>\n",
              "      <td>NaN</td>\n",
              "      <td>56.0</td>\n",
              "      <td>1</td>\n",
              "      <td>1</td>\n",
              "      <td>1</td>\n",
              "      <td>1</td>\n",
              "      <td>1</td>\n",
              "      <td>1</td>\n",
              "      <td>0</td>\n",
              "    </tr>\n",
              "    <tr>\n",
              "      <th>1</th>\n",
              "      <td>Aegon Frey (Jinglebell)</td>\n",
              "      <td>None</td>\n",
              "      <td>299.0</td>\n",
              "      <td>3.0</td>\n",
              "      <td>51.0</td>\n",
              "      <td>49.0</td>\n",
              "      <td>1</td>\n",
              "      <td>1</td>\n",
              "      <td>0</td>\n",
              "      <td>0</td>\n",
              "      <td>1</td>\n",
              "      <td>0</td>\n",
              "      <td>0</td>\n",
              "    </tr>\n",
              "    <tr>\n",
              "      <th>2</th>\n",
              "      <td>Aegon Targaryen</td>\n",
              "      <td>House Targaryen</td>\n",
              "      <td>NaN</td>\n",
              "      <td>NaN</td>\n",
              "      <td>NaN</td>\n",
              "      <td>5.0</td>\n",
              "      <td>1</td>\n",
              "      <td>1</td>\n",
              "      <td>0</td>\n",
              "      <td>0</td>\n",
              "      <td>0</td>\n",
              "      <td>0</td>\n",
              "      <td>1</td>\n",
              "    </tr>\n",
              "    <tr>\n",
              "      <th>3</th>\n",
              "      <td>Adrack Humble</td>\n",
              "      <td>House Greyjoy</td>\n",
              "      <td>300.0</td>\n",
              "      <td>5.0</td>\n",
              "      <td>20.0</td>\n",
              "      <td>20.0</td>\n",
              "      <td>1</td>\n",
              "      <td>1</td>\n",
              "      <td>0</td>\n",
              "      <td>0</td>\n",
              "      <td>0</td>\n",
              "      <td>0</td>\n",
              "      <td>1</td>\n",
              "    </tr>\n",
              "    <tr>\n",
              "      <th>4</th>\n",
              "      <td>Aemon Costayne</td>\n",
              "      <td>Lannister</td>\n",
              "      <td>NaN</td>\n",
              "      <td>NaN</td>\n",
              "      <td>NaN</td>\n",
              "      <td>NaN</td>\n",
              "      <td>1</td>\n",
              "      <td>1</td>\n",
              "      <td>0</td>\n",
              "      <td>0</td>\n",
              "      <td>1</td>\n",
              "      <td>0</td>\n",
              "      <td>0</td>\n",
              "    </tr>\n",
              "  </tbody>\n",
              "</table>\n",
              "</div>\n",
              "      <button class=\"colab-df-convert\" onclick=\"convertToInteractive('df-65fc91b3-7593-4f03-b96b-7415761ed0c2')\"\n",
              "              title=\"Convert this dataframe to an interactive table.\"\n",
              "              style=\"display:none;\">\n",
              "        \n",
              "  <svg xmlns=\"http://www.w3.org/2000/svg\" height=\"24px\"viewBox=\"0 0 24 24\"\n",
              "       width=\"24px\">\n",
              "    <path d=\"M0 0h24v24H0V0z\" fill=\"none\"/>\n",
              "    <path d=\"M18.56 5.44l.94 2.06.94-2.06 2.06-.94-2.06-.94-.94-2.06-.94 2.06-2.06.94zm-11 1L8.5 8.5l.94-2.06 2.06-.94-2.06-.94L8.5 2.5l-.94 2.06-2.06.94zm10 10l.94 2.06.94-2.06 2.06-.94-2.06-.94-.94-2.06-.94 2.06-2.06.94z\"/><path d=\"M17.41 7.96l-1.37-1.37c-.4-.4-.92-.59-1.43-.59-.52 0-1.04.2-1.43.59L10.3 9.45l-7.72 7.72c-.78.78-.78 2.05 0 2.83L4 21.41c.39.39.9.59 1.41.59.51 0 1.02-.2 1.41-.59l7.78-7.78 2.81-2.81c.8-.78.8-2.07 0-2.86zM5.41 20L4 18.59l7.72-7.72 1.47 1.35L5.41 20z\"/>\n",
              "  </svg>\n",
              "      </button>\n",
              "      \n",
              "  <style>\n",
              "    .colab-df-container {\n",
              "      display:flex;\n",
              "      flex-wrap:wrap;\n",
              "      gap: 12px;\n",
              "    }\n",
              "\n",
              "    .colab-df-convert {\n",
              "      background-color: #E8F0FE;\n",
              "      border: none;\n",
              "      border-radius: 50%;\n",
              "      cursor: pointer;\n",
              "      display: none;\n",
              "      fill: #1967D2;\n",
              "      height: 32px;\n",
              "      padding: 0 0 0 0;\n",
              "      width: 32px;\n",
              "    }\n",
              "\n",
              "    .colab-df-convert:hover {\n",
              "      background-color: #E2EBFA;\n",
              "      box-shadow: 0px 1px 2px rgba(60, 64, 67, 0.3), 0px 1px 3px 1px rgba(60, 64, 67, 0.15);\n",
              "      fill: #174EA6;\n",
              "    }\n",
              "\n",
              "    [theme=dark] .colab-df-convert {\n",
              "      background-color: #3B4455;\n",
              "      fill: #D2E3FC;\n",
              "    }\n",
              "\n",
              "    [theme=dark] .colab-df-convert:hover {\n",
              "      background-color: #434B5C;\n",
              "      box-shadow: 0px 1px 3px 1px rgba(0, 0, 0, 0.15);\n",
              "      filter: drop-shadow(0px 1px 2px rgba(0, 0, 0, 0.3));\n",
              "      fill: #FFFFFF;\n",
              "    }\n",
              "  </style>\n",
              "\n",
              "      <script>\n",
              "        const buttonEl =\n",
              "          document.querySelector('#df-65fc91b3-7593-4f03-b96b-7415761ed0c2 button.colab-df-convert');\n",
              "        buttonEl.style.display =\n",
              "          google.colab.kernel.accessAllowed ? 'block' : 'none';\n",
              "\n",
              "        async function convertToInteractive(key) {\n",
              "          const element = document.querySelector('#df-65fc91b3-7593-4f03-b96b-7415761ed0c2');\n",
              "          const dataTable =\n",
              "            await google.colab.kernel.invokeFunction('convertToInteractive',\n",
              "                                                     [key], {});\n",
              "          if (!dataTable) return;\n",
              "\n",
              "          const docLinkHtml = 'Like what you see? Visit the ' +\n",
              "            '<a target=\"_blank\" href=https://colab.research.google.com/notebooks/data_table.ipynb>data table notebook</a>'\n",
              "            + ' to learn more about interactive tables.';\n",
              "          element.innerHTML = '';\n",
              "          dataTable['output_type'] = 'display_data';\n",
              "          await google.colab.output.renderOutput(dataTable, element);\n",
              "          const docLink = document.createElement('div');\n",
              "          docLink.innerHTML = docLinkHtml;\n",
              "          element.appendChild(docLink);\n",
              "        }\n",
              "      </script>\n",
              "    </div>\n",
              "  </div>\n",
              "  "
            ]
          },
          "metadata": {},
          "execution_count": 48
        }
      ]
    },
    {
      "cell_type": "code",
      "source": [
        "deaths.describe()"
      ],
      "metadata": {
        "colab": {
          "base_uri": "https://localhost:8080/",
          "height": 395
        },
        "id": "sF0Djh3iC5Kj",
        "outputId": "576917bb-84c0-42fe-b894-5082fbe97bd3"
      },
      "execution_count": 50,
      "outputs": [
        {
          "output_type": "execute_result",
          "data": {
            "text/plain": [
              "       Death Year  Book of Death  Death Chapter  Book Intro Chapter  \\\n",
              "count  305.000000     307.000000     299.000000          905.000000   \n",
              "mean   299.157377       2.928339      40.070234           28.861878   \n",
              "std      0.703483       1.326482      20.470270           20.165788   \n",
              "min    297.000000       1.000000       0.000000            0.000000   \n",
              "25%    299.000000       2.000000      25.500000           11.000000   \n",
              "50%    299.000000       3.000000      39.000000           27.000000   \n",
              "75%    300.000000       4.000000      57.000000           43.000000   \n",
              "max    300.000000       5.000000      80.000000           80.000000   \n",
              "\n",
              "           Gender    Nobility         GoT         CoK         SoS         FfC  \\\n",
              "count  917.000000  917.000000  917.000000  917.000000  917.000000  917.000000   \n",
              "mean     0.828790    0.468920    0.272628    0.353326    0.424209    0.272628   \n",
              "std      0.376898    0.499305    0.445554    0.478264    0.494492    0.445554   \n",
              "min      0.000000    0.000000    0.000000    0.000000    0.000000    0.000000   \n",
              "25%      1.000000    0.000000    0.000000    0.000000    0.000000    0.000000   \n",
              "50%      1.000000    0.000000    0.000000    0.000000    0.000000    0.000000   \n",
              "75%      1.000000    1.000000    1.000000    1.000000    1.000000    1.000000   \n",
              "max      1.000000    1.000000    1.000000    1.000000    1.000000    1.000000   \n",
              "\n",
              "              DwD  \n",
              "count  917.000000  \n",
              "mean     0.284624  \n",
              "std      0.451481  \n",
              "min      0.000000  \n",
              "25%      0.000000  \n",
              "50%      0.000000  \n",
              "75%      1.000000  \n",
              "max      1.000000  "
            ],
            "text/html": [
              "\n",
              "  <div id=\"df-3408085f-f5e9-43e4-853d-3840743b9007\">\n",
              "    <div class=\"colab-df-container\">\n",
              "      <div>\n",
              "<style scoped>\n",
              "    .dataframe tbody tr th:only-of-type {\n",
              "        vertical-align: middle;\n",
              "    }\n",
              "\n",
              "    .dataframe tbody tr th {\n",
              "        vertical-align: top;\n",
              "    }\n",
              "\n",
              "    .dataframe thead th {\n",
              "        text-align: right;\n",
              "    }\n",
              "</style>\n",
              "<table border=\"1\" class=\"dataframe\">\n",
              "  <thead>\n",
              "    <tr style=\"text-align: right;\">\n",
              "      <th></th>\n",
              "      <th>Death Year</th>\n",
              "      <th>Book of Death</th>\n",
              "      <th>Death Chapter</th>\n",
              "      <th>Book Intro Chapter</th>\n",
              "      <th>Gender</th>\n",
              "      <th>Nobility</th>\n",
              "      <th>GoT</th>\n",
              "      <th>CoK</th>\n",
              "      <th>SoS</th>\n",
              "      <th>FfC</th>\n",
              "      <th>DwD</th>\n",
              "    </tr>\n",
              "  </thead>\n",
              "  <tbody>\n",
              "    <tr>\n",
              "      <th>count</th>\n",
              "      <td>305.000000</td>\n",
              "      <td>307.000000</td>\n",
              "      <td>299.000000</td>\n",
              "      <td>905.000000</td>\n",
              "      <td>917.000000</td>\n",
              "      <td>917.000000</td>\n",
              "      <td>917.000000</td>\n",
              "      <td>917.000000</td>\n",
              "      <td>917.000000</td>\n",
              "      <td>917.000000</td>\n",
              "      <td>917.000000</td>\n",
              "    </tr>\n",
              "    <tr>\n",
              "      <th>mean</th>\n",
              "      <td>299.157377</td>\n",
              "      <td>2.928339</td>\n",
              "      <td>40.070234</td>\n",
              "      <td>28.861878</td>\n",
              "      <td>0.828790</td>\n",
              "      <td>0.468920</td>\n",
              "      <td>0.272628</td>\n",
              "      <td>0.353326</td>\n",
              "      <td>0.424209</td>\n",
              "      <td>0.272628</td>\n",
              "      <td>0.284624</td>\n",
              "    </tr>\n",
              "    <tr>\n",
              "      <th>std</th>\n",
              "      <td>0.703483</td>\n",
              "      <td>1.326482</td>\n",
              "      <td>20.470270</td>\n",
              "      <td>20.165788</td>\n",
              "      <td>0.376898</td>\n",
              "      <td>0.499305</td>\n",
              "      <td>0.445554</td>\n",
              "      <td>0.478264</td>\n",
              "      <td>0.494492</td>\n",
              "      <td>0.445554</td>\n",
              "      <td>0.451481</td>\n",
              "    </tr>\n",
              "    <tr>\n",
              "      <th>min</th>\n",
              "      <td>297.000000</td>\n",
              "      <td>1.000000</td>\n",
              "      <td>0.000000</td>\n",
              "      <td>0.000000</td>\n",
              "      <td>0.000000</td>\n",
              "      <td>0.000000</td>\n",
              "      <td>0.000000</td>\n",
              "      <td>0.000000</td>\n",
              "      <td>0.000000</td>\n",
              "      <td>0.000000</td>\n",
              "      <td>0.000000</td>\n",
              "    </tr>\n",
              "    <tr>\n",
              "      <th>25%</th>\n",
              "      <td>299.000000</td>\n",
              "      <td>2.000000</td>\n",
              "      <td>25.500000</td>\n",
              "      <td>11.000000</td>\n",
              "      <td>1.000000</td>\n",
              "      <td>0.000000</td>\n",
              "      <td>0.000000</td>\n",
              "      <td>0.000000</td>\n",
              "      <td>0.000000</td>\n",
              "      <td>0.000000</td>\n",
              "      <td>0.000000</td>\n",
              "    </tr>\n",
              "    <tr>\n",
              "      <th>50%</th>\n",
              "      <td>299.000000</td>\n",
              "      <td>3.000000</td>\n",
              "      <td>39.000000</td>\n",
              "      <td>27.000000</td>\n",
              "      <td>1.000000</td>\n",
              "      <td>0.000000</td>\n",
              "      <td>0.000000</td>\n",
              "      <td>0.000000</td>\n",
              "      <td>0.000000</td>\n",
              "      <td>0.000000</td>\n",
              "      <td>0.000000</td>\n",
              "    </tr>\n",
              "    <tr>\n",
              "      <th>75%</th>\n",
              "      <td>300.000000</td>\n",
              "      <td>4.000000</td>\n",
              "      <td>57.000000</td>\n",
              "      <td>43.000000</td>\n",
              "      <td>1.000000</td>\n",
              "      <td>1.000000</td>\n",
              "      <td>1.000000</td>\n",
              "      <td>1.000000</td>\n",
              "      <td>1.000000</td>\n",
              "      <td>1.000000</td>\n",
              "      <td>1.000000</td>\n",
              "    </tr>\n",
              "    <tr>\n",
              "      <th>max</th>\n",
              "      <td>300.000000</td>\n",
              "      <td>5.000000</td>\n",
              "      <td>80.000000</td>\n",
              "      <td>80.000000</td>\n",
              "      <td>1.000000</td>\n",
              "      <td>1.000000</td>\n",
              "      <td>1.000000</td>\n",
              "      <td>1.000000</td>\n",
              "      <td>1.000000</td>\n",
              "      <td>1.000000</td>\n",
              "      <td>1.000000</td>\n",
              "    </tr>\n",
              "  </tbody>\n",
              "</table>\n",
              "</div>\n",
              "      <button class=\"colab-df-convert\" onclick=\"convertToInteractive('df-3408085f-f5e9-43e4-853d-3840743b9007')\"\n",
              "              title=\"Convert this dataframe to an interactive table.\"\n",
              "              style=\"display:none;\">\n",
              "        \n",
              "  <svg xmlns=\"http://www.w3.org/2000/svg\" height=\"24px\"viewBox=\"0 0 24 24\"\n",
              "       width=\"24px\">\n",
              "    <path d=\"M0 0h24v24H0V0z\" fill=\"none\"/>\n",
              "    <path d=\"M18.56 5.44l.94 2.06.94-2.06 2.06-.94-2.06-.94-.94-2.06-.94 2.06-2.06.94zm-11 1L8.5 8.5l.94-2.06 2.06-.94-2.06-.94L8.5 2.5l-.94 2.06-2.06.94zm10 10l.94 2.06.94-2.06 2.06-.94-2.06-.94-.94-2.06-.94 2.06-2.06.94z\"/><path d=\"M17.41 7.96l-1.37-1.37c-.4-.4-.92-.59-1.43-.59-.52 0-1.04.2-1.43.59L10.3 9.45l-7.72 7.72c-.78.78-.78 2.05 0 2.83L4 21.41c.39.39.9.59 1.41.59.51 0 1.02-.2 1.41-.59l7.78-7.78 2.81-2.81c.8-.78.8-2.07 0-2.86zM5.41 20L4 18.59l7.72-7.72 1.47 1.35L5.41 20z\"/>\n",
              "  </svg>\n",
              "      </button>\n",
              "      \n",
              "  <style>\n",
              "    .colab-df-container {\n",
              "      display:flex;\n",
              "      flex-wrap:wrap;\n",
              "      gap: 12px;\n",
              "    }\n",
              "\n",
              "    .colab-df-convert {\n",
              "      background-color: #E8F0FE;\n",
              "      border: none;\n",
              "      border-radius: 50%;\n",
              "      cursor: pointer;\n",
              "      display: none;\n",
              "      fill: #1967D2;\n",
              "      height: 32px;\n",
              "      padding: 0 0 0 0;\n",
              "      width: 32px;\n",
              "    }\n",
              "\n",
              "    .colab-df-convert:hover {\n",
              "      background-color: #E2EBFA;\n",
              "      box-shadow: 0px 1px 2px rgba(60, 64, 67, 0.3), 0px 1px 3px 1px rgba(60, 64, 67, 0.15);\n",
              "      fill: #174EA6;\n",
              "    }\n",
              "\n",
              "    [theme=dark] .colab-df-convert {\n",
              "      background-color: #3B4455;\n",
              "      fill: #D2E3FC;\n",
              "    }\n",
              "\n",
              "    [theme=dark] .colab-df-convert:hover {\n",
              "      background-color: #434B5C;\n",
              "      box-shadow: 0px 1px 3px 1px rgba(0, 0, 0, 0.15);\n",
              "      filter: drop-shadow(0px 1px 2px rgba(0, 0, 0, 0.3));\n",
              "      fill: #FFFFFF;\n",
              "    }\n",
              "  </style>\n",
              "\n",
              "      <script>\n",
              "        const buttonEl =\n",
              "          document.querySelector('#df-3408085f-f5e9-43e4-853d-3840743b9007 button.colab-df-convert');\n",
              "        buttonEl.style.display =\n",
              "          google.colab.kernel.accessAllowed ? 'block' : 'none';\n",
              "\n",
              "        async function convertToInteractive(key) {\n",
              "          const element = document.querySelector('#df-3408085f-f5e9-43e4-853d-3840743b9007');\n",
              "          const dataTable =\n",
              "            await google.colab.kernel.invokeFunction('convertToInteractive',\n",
              "                                                     [key], {});\n",
              "          if (!dataTable) return;\n",
              "\n",
              "          const docLinkHtml = 'Like what you see? Visit the ' +\n",
              "            '<a target=\"_blank\" href=https://colab.research.google.com/notebooks/data_table.ipynb>data table notebook</a>'\n",
              "            + ' to learn more about interactive tables.';\n",
              "          element.innerHTML = '';\n",
              "          dataTable['output_type'] = 'display_data';\n",
              "          await google.colab.output.renderOutput(dataTable, element);\n",
              "          const docLink = document.createElement('div');\n",
              "          docLink.innerHTML = docLinkHtml;\n",
              "          element.appendChild(docLink);\n",
              "        }\n",
              "      </script>\n",
              "    </div>\n",
              "  </div>\n",
              "  "
            ]
          },
          "metadata": {},
          "execution_count": 50
        }
      ]
    },
    {
      "cell_type": "code",
      "source": [
        "deaths.shape"
      ],
      "metadata": {
        "colab": {
          "base_uri": "https://localhost:8080/"
        },
        "id": "llx2IhPzDBVX",
        "outputId": "15fd33f9-e2ec-442a-a4b0-bfc320032a74"
      },
      "execution_count": 51,
      "outputs": [
        {
          "output_type": "execute_result",
          "data": {
            "text/plain": [
              "(917, 13)"
            ]
          },
          "metadata": {},
          "execution_count": 51
        }
      ]
    },
    {
      "cell_type": "code",
      "source": [
        "deaths['Gender'].value_counts()"
      ],
      "metadata": {
        "colab": {
          "base_uri": "https://localhost:8080/"
        },
        "id": "7rbpQ5JwDGAn",
        "outputId": "901af8e3-c46e-4c14-f917-9c01e1ae46a9"
      },
      "execution_count": 54,
      "outputs": [
        {
          "output_type": "execute_result",
          "data": {
            "text/plain": [
              "1    760\n",
              "0    157\n",
              "Name: Gender, dtype: int64"
            ]
          },
          "metadata": {},
          "execution_count": 54
        }
      ]
    },
    {
      "cell_type": "code",
      "source": [
        "deaths['Nobility'].value_counts()"
      ],
      "metadata": {
        "colab": {
          "base_uri": "https://localhost:8080/"
        },
        "id": "TwrTK3vyDF4T",
        "outputId": "e503a406-99ea-40dc-8ee3-69c1a3b5e4d7"
      },
      "execution_count": 55,
      "outputs": [
        {
          "output_type": "execute_result",
          "data": {
            "text/plain": [
              "0    487\n",
              "1    430\n",
              "Name: Nobility, dtype: int64"
            ]
          },
          "metadata": {},
          "execution_count": 55
        }
      ]
    },
    {
      "cell_type": "code",
      "source": [
        "sns.countplot(deaths['Book of Death'])\n",
        "plt.show"
      ],
      "metadata": {
        "colab": {
          "base_uri": "https://localhost:8080/",
          "height": 410
        },
        "id": "Txj-Bo1qERMi",
        "outputId": "3022acc3-f7aa-4241-f76a-ca4efd43b015"
      },
      "execution_count": 62,
      "outputs": [
        {
          "output_type": "stream",
          "name": "stderr",
          "text": [
            "/usr/local/lib/python3.7/dist-packages/seaborn/_decorators.py:43: FutureWarning: Pass the following variable as a keyword arg: x. From version 0.12, the only valid positional argument will be `data`, and passing other arguments without an explicit keyword will result in an error or misinterpretation.\n",
            "  FutureWarning\n"
          ]
        },
        {
          "output_type": "execute_result",
          "data": {
            "text/plain": [
              "<function matplotlib.pyplot.show(*args, **kw)>"
            ]
          },
          "metadata": {},
          "execution_count": 62
        },
        {
          "output_type": "display_data",
          "data": {
            "text/plain": [
              "<Figure size 936x360 with 1 Axes>"
            ],
            "image/png": "[encoded data removed]"
          },
          "metadata": {}
        }
      ]
    },
    {
      "cell_type": "code",
      "source": [
        "sns.countplot(deaths['Nobility'])\n",
        "plt.show"
      ],
      "metadata": {
        "colab": {
          "base_uri": "https://localhost:8080/",
          "height": 410
        },
        "id": "wmJPtY6FD7r6",
        "outputId": "f98ce431-2088-4ee9-ea37-5506858d050c"
      },
      "execution_count": 61,
      "outputs": [
        {
          "output_type": "stream",
          "name": "stderr",
          "text": [
            "/usr/local/lib/python3.7/dist-packages/seaborn/_decorators.py:43: FutureWarning: Pass the following variable as a keyword arg: x. From version 0.12, the only valid positional argument will be `data`, and passing other arguments without an explicit keyword will result in an error or misinterpretation.\n",
            "  FutureWarning\n"
          ]
        },
        {
          "output_type": "execute_result",
          "data": {
            "text/plain": [
              "<function matplotlib.pyplot.show(*args, **kw)>"
            ]
          },
          "metadata": {},
          "execution_count": 61
        },
        {
          "output_type": "display_data",
          "data": {
            "text/plain": [
              "<Figure size 936x360 with 1 Axes>"
            ],
            "image/png": "[encoded data removed]"
          },
          "metadata": {}
        }
      ]
    },
    {
      "cell_type": "code",
      "source": [
        "sns.countplot(deaths['Death Year'])\n",
        "plt.show"
      ],
      "metadata": {
        "colab": {
          "base_uri": "https://localhost:8080/",
          "height": 410
        },
        "id": "MhppcuGODXWT",
        "outputId": "e167baf9-ec33-4798-861d-9e1a6c932a07"
      },
      "execution_count": 60,
      "outputs": [
        {
          "output_type": "stream",
          "name": "stderr",
          "text": [
            "/usr/local/lib/python3.7/dist-packages/seaborn/_decorators.py:43: FutureWarning: Pass the following variable as a keyword arg: x. From version 0.12, the only valid positional argument will be `data`, and passing other arguments without an explicit keyword will result in an error or misinterpretation.\n",
            "  FutureWarning\n"
          ]
        },
        {
          "output_type": "execute_result",
          "data": {
            "text/plain": [
              "<function matplotlib.pyplot.show(*args, **kw)>"
            ]
          },
          "metadata": {},
          "execution_count": 60
        },
        {
          "output_type": "display_data",
          "data": {
            "text/plain": [
              "<Figure size 936x360 with 1 Axes>"
            ],
            "image/png": "[encoded data removed]"
          },
          "metadata": {}
        }
      ]
    },
    {
      "cell_type": "markdown",
      "source": [],
      "metadata": {
        "id": "fqxltg4hDBKH"
      }
    }
  ]
}